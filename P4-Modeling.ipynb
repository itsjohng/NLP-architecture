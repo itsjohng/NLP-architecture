{
 "cells": [
  {
   "cell_type": "code",
   "execution_count": 30,
   "metadata": {},
   "outputs": [],
   "source": [
    "import gensim\n",
    "import pandas as pd\n",
    "import numpy as np\n",
    "import matplotlib.pyplot as plt\n",
    " \n",
    "from sklearn.manifold import TSNE"
   ]
  },
  {
   "cell_type": "code",
   "execution_count": 322,
   "metadata": {},
   "outputs": [],
   "source": [
    "df = pd.read_csv('downloads/disciplinarity/master.csv')\n",
    "#df.drop(index = [*range(114)],axis=0, inplace =True)\n",
    "df.rename(columns = {'0' :'TEXT'},inplace=True)\n",
    "df.drop(['Unnamed: 0'],axis=1, inplace=True)\n",
    "df.drop(index=[63, 76],inplace = True) #doc 64,77 (at index 63,76) failed to convert from pdf.\n",
    "df =df.sort_values(['YEAR'])\n",
    "df['TEXT'] = df['TEXT'].astype(str)"
   ]
  },
  {
   "cell_type": "code",
   "execution_count": 324,
   "metadata": {},
   "outputs": [],
   "source": [
    "master_list = []\n",
    "for i in range(1960,2020,10):\n",
    "    mask = (df['YEAR'] >= i) & (df['YEAR'] < (i+10))\n",
    "    master_list.append(df['TEXT'][mask].tolist())"
   ]
  },
  {
   "cell_type": "code",
   "execution_count": 260,
   "metadata": {},
   "outputs": [],
   "source": [
    "#td = [gensim.utils.simple_preprocess(d) for d in master_list[0]]"
   ]
  },
  {
   "cell_type": "code",
   "execution_count": 325,
   "metadata": {},
   "outputs": [],
   "source": [
    "from nltk import ngrams\n",
    "master_grams = []\n",
    "modelz = []\n",
    "for list_year in master_list:\n",
    "    inter_grams = []\n",
    "    for doc in list_year:\n",
    "        grams=[]\n",
    "        grams=gensim.utils.simple_preprocess(doc)\n",
    "        \n",
    "        #bigram=list(ngrams(doc.split(),2))\n",
    "        #for item in bigram:\n",
    "        #   grams.append(item[0]+'_'+item[1])\n",
    "        \n",
    "        #trigram=list(ngrams(doc.split(),3))\n",
    "        #for item in trigram:\n",
    "        #   grams.append(item[0]+'_'+item[1]+'_'+item[2])\n",
    "        inter_grams.append(grams)\n",
    "    model = gensim.models.Word2Vec(inter_grams, size=300, window=7, min_count=1, sg=1)\n",
    "    modelz.append(model)\n",
    "    master_grams.append(inter_grams)\n",
    "# fourgram=list(ngrams(Sentences.lower().split(),4))"
   ]
  },
  {
   "cell_type": "code",
   "execution_count": 328,
   "metadata": {},
   "outputs": [],
   "source": [
    "b_master_grams =[]\n",
    "for year in master_grams:\n",
    "    for doc in year:\n",
    "        b_master_grams.append(doc)"
   ]
  },
  {
   "cell_type": "code",
   "execution_count": 331,
   "metadata": {},
   "outputs": [
    {
     "data": {
      "text/plain": [
       "158"
      ]
     },
     "execution_count": 331,
     "metadata": {},
     "output_type": "execute_result"
    }
   ],
   "source": [
    "len(b_master_grams)"
   ]
  },
  {
   "cell_type": "code",
   "execution_count": 329,
   "metadata": {},
   "outputs": [],
   "source": [
    "big_model = gensim.models.Word2Vec(b_master_grams, size=100, window=7, min_count=1, sg=1)"
   ]
  },
  {
   "cell_type": "code",
   "execution_count": 347,
   "metadata": {},
   "outputs": [
    {
     "data": {
      "text/plain": [
       "[('formalist', 0.931101381778717),\n",
       " ('functionalism', 0.9303992986679077),\n",
       " ('originality', 0.9114630818367004),\n",
       " ('reaction', 0.9112106561660767),\n",
       " ('radical', 0.9109077453613281),\n",
       " ('attitude', 0.9027870297431946),\n",
       " ('explicitly', 0.9021817445755005),\n",
       " ('historicist', 0.8998643159866333),\n",
       " ('consequence', 0.898565948009491),\n",
       " ('vanguard', 0.8969237208366394),\n",
       " ('authenticity', 0.8965511322021484),\n",
       " ('heroic', 0.8961970806121826),\n",
       " ('typological', 0.8960416316986084),\n",
       " ('marxist', 0.895888090133667),\n",
       " ('critically', 0.8950490355491638)]"
      ]
     },
     "execution_count": 347,
     "metadata": {},
     "output_type": "execute_result"
    }
   ],
   "source": [
    "big_model.wv.most_similar('formalism', topn=15)"
   ]
  },
  {
   "cell_type": "code",
   "execution_count": 338,
   "metadata": {},
   "outputs": [
    {
     "data": {
      "text/plain": [
       "[('garde', 0.764068067073822),\n",
       " ('postmodernism', 0.7635235786437988),\n",
       " ('neo', 0.7553291320800781),\n",
       " ('avant', 0.7525164484977722),\n",
       " ('post', 0.7320262789726257),\n",
       " ('functionalism', 0.7307944297790527),\n",
       " ('position', 0.7304722666740417),\n",
       " ('critique', 0.7244860529899597),\n",
       " ('originality', 0.7234952449798584),\n",
       " ('postmodern', 0.7190908193588257)]"
      ]
     },
     "execution_count": 338,
     "metadata": {},
     "output_type": "execute_result"
    }
   ],
   "source": [
    "big_model.wv.most_similar(positive=['eisenman', 'modernism'], negative=['corbusier'])"
   ]
  },
  {
   "cell_type": "code",
   "execution_count": 360,
   "metadata": {},
   "outputs": [
    {
     "name": "stdout",
     "output_type": "stream",
     "text": [
      "--------------------1960--------------------\n",
      "['planning', 'ideological', 'utopia', 'organization', 'rst', 'entire', 'phenomenon', 'through', 'scale', 'little']\n",
      "--------------------1970--------------------\n",
      "['geometry', 'spaces', 'deep', 'historical', 'dialectical', 'life', 'autonomy', 'technological', 'abstract', 'knowledge']\n",
      "--------------------1980--------------------\n",
      "['values', 'functions', 'material', 'geometry', 'relations', 'function', 'dialectical', 'objective', 'radically', 'force']\n",
      "--------------------1990--------------------\n",
      "['pair', 'repressed', 'objectivity', 'individual', 'shadow', 'against', 'technical', 'elements', 'formation', 'stone']\n",
      "--------------------2000--------------------\n",
      "['making', 'concerns', 'individual', 'geometric', 'narrative', 'human', 'specific', 'dynamic', 'experience', 'forces']\n",
      "--------------------2010--------------------\n",
      "['specific', 'understanding', 'memory', 'progress', 'works', 'ideal', 'shaped', 'relationship', 'material', 'relation']\n"
     ]
    }
   ],
   "source": [
    "word = 'formal'\n",
    "year = 1960\n",
    "for mod in modelz:\n",
    "    print('--------------------'+str(year)+'--------------------')\n",
    "    print([x[0] for x in mod.wv.most_similar(word ,topn=10)])\n",
    "    year += 10"
   ]
  },
  {
   "cell_type": "code",
   "execution_count": 351,
   "metadata": {},
   "outputs": [
    {
     "name": "stdout",
     "output_type": "stream",
     "text": [
      "--------------------1960--------------------\n",
      "['existing', 'force', 'visual', 'shape', 'proposed', 'translated', 'room', 'movements', 'leaving', 'contradiction']\n",
      "--------------------1970--------------------\n",
      "['autonomous', 'importance', 'cognitive', 'distinct', 'technical', 'sign', 'dialectical', 'mechanism', 'organization', 'knowledge']\n",
      "--------------------1980--------------------\n",
      "['autonomous', 'processes', 'possibilities', 'application', 'global', 'potential', 'dominant', 'government', 'renaissance', 'focus']\n",
      "--------------------1990--------------------\n",
      "['subjectivity', 'independent', 'death', 'representation', 'control', 'activity', 'excess', 'problematic', 'exchange', 'extended']\n",
      "--------------------2000--------------------\n",
      "['important', 'reality', 'indeed', 'logic', 'condition', 'definition', 'precisely', 'internal', 'unique', 'high']\n",
      "--------------------2010--------------------\n",
      "['situation', 'almost', 'claim', 'thinking', 'sculpture', 'clear', 'instance', 'zones', 'wolfflin', 'asa']\n"
     ]
    }
   ],
   "source": [
    "# biggest corpus\n",
    "word = 'autonomy'\n",
    "year = 1960\n",
    "for mod in modelz:\n",
    "    print('--------------------'+str(year)+'--------------------')\n",
    "    print([x[0] for x in mod.wv.most_similar(word ,topn=10)])\n",
    "    year += 10"
   ]
  },
  {
   "cell_type": "code",
   "execution_count": 352,
   "metadata": {},
   "outputs": [
    {
     "name": "stdout",
     "output_type": "stream",
     "text": [
      "--------------------1960--------------------\n",
      "['belief', 'obvious', 'message', 'grid', 'solution', 'categories', 'fashion', 'proportions', 'remains', 'genera']\n",
      "--------------------1970--------------------\n",
      "['geometry', 'typical', 'origins', 'high', 'renaissance', 'disciplinary', 'commentary', 'changing', 'techniques', 'painting']\n",
      "--------------------1980--------------------\n",
      "['criticism', 'ideology', 'everyday', 'post', 'media', 'industrial', 'reproduction', 'modernity', 'image', 'contradiction']\n",
      "--------------------1990--------------------\n",
      "['education', 'published', 'essays', 'ware', 'american', 'massachusetts', 'school', 'arts', 'columbia', 'planning']\n",
      "--------------------2000--------------------\n",
      "['condition', 'autonomous', 'disciplinarity', 'machine', 'virtual', 'reality', 'result', 'gehry', 'definition', 'essential']\n",
      "--------------------2010--------------------\n",
      "['subject', 'future', 'nature', 'knowledge', 'its', 'diagram', 'such', 'does', 'forms', 'artist']\n"
     ]
    }
   ],
   "source": [
    "# biggest corpus\n",
    "word = 'technology'\n",
    "year = 1960\n",
    "for mod in modelz:\n",
    "    print('--------------------'+str(year)+'--------------------')\n",
    "    print([x[0] for x in mod.wv.most_similar(word ,topn=10)])\n",
    "    year += 10"
   ]
  },
  {
   "cell_type": "code",
   "execution_count": 358,
   "metadata": {},
   "outputs": [
    {
     "name": "stdout",
     "output_type": "stream",
     "text": [
      "--------------------1960--------------------\n",
      "['configuration', 'follow', 'consideration', 'signicance', 'entirely', 'remained', 'back', 'law', 'opposed', 'pattern']\n",
      "--------------------1970--------------------\n",
      "['distinguish', 'possibilities', 'universal', 'constituted', 'functioning', 'practical', 'praxis', 'gure', 'totality', 'concerns']\n",
      "--------------------1980--------------------\n",
      "['location', 'rigorous', 'typological', 'local', 'approaches', 'morphological', 'combination', 'background', 'precise', 'corresponding']\n",
      "--------------------1990--------------------\n",
      "['academy', 'discursive', 'implications', 'locus', 'humanities', 'strategy', 'develop', 'institutions', 'myth', 'regime']\n",
      "--------------------2000--------------------\n",
      "['special', 'debates', 'involved', 'postmodern', 'using', 'regarding', 'ofarchitectural', 'aspects', 'utility', 'defining']\n",
      "--------------------2010--------------------\n",
      "['web', 'chapter', 'hold', 'plans', 'ecological', 'james', 'shift', 'conception', 'increasingly', 'control']\n"
     ]
    }
   ],
   "source": [
    "# biggest corpus\n",
    "word = 'linguistic'\n",
    "year = 1960\n",
    "for mod in modelz:\n",
    "    print('--------------------'+str(year)+'--------------------')\n",
    "    print([x[0] for x in mod.wv.most_similar(word ,topn=10)])\n",
    "    year += 10"
   ]
  },
  {
   "cell_type": "code",
   "execution_count": 369,
   "metadata": {},
   "outputs": [
    {
     "name": "stdout",
     "output_type": "stream",
     "text": [
      "--------------------1960--------------------\n",
      "['carried', 'discovered', 'further', 'orders', 'lie', 'origin', 'maximum', 'exception', 'paths', 'conventions']\n",
      "--------------------1970--------------------\n",
      "['stated', 'tend', 'isolated', 'theoretically', 'conclude', 'saying', 'lost', 'identify', 'willing', 'ought']\n",
      "--------------------1980--------------------\n",
      "['literally', 'begin', 'located', 'determined', 'ourselves', 'negative', 'considered', 'cut', 'lead', 'changes']\n",
      "--------------------1990--------------------\n",
      "['younger', 'bringing', 'influence', 'success', 'letters', 'report', 'continues', 'occupy', 'monumental', 'traits']\n",
      "--------------------2000--------------------\n",
      "['constantly', 'greater', 'shape', 'symbolic', 'rooted', 'intended', 'reasoning', 'metaphors', 'derive', 'utility']\n",
      "--------------------2010--------------------\n",
      "['pure', 'core', 'remain', 'movement', 'film', 'presence', 're', 'used', 'importance', 'self']\n"
     ]
    }
   ],
   "source": [
    "word = 'drawn'\n",
    "year = 1960\n",
    "for mod in modelz:\n",
    "    print('--------------------'+str(year)+'--------------------')\n",
    "    print([x[0] for x in mod.wv.most_similar(word ,topn=10)])\n",
    "    year += 10"
   ]
  },
  {
   "cell_type": "code",
   "execution_count": null,
   "metadata": {},
   "outputs": [],
   "source": []
  },
  {
   "cell_type": "code",
   "execution_count": 370,
   "metadata": {},
   "outputs": [
    {
     "name": "stdout",
     "output_type": "stream",
     "text": [
      "--------------------1960--------------------\n",
      "['standard', 'ground', 'secondary', 'jakobson', 'despite', 'package', 'main', 'complexity', 'uses', 'eclecticism']\n",
      "--------------------1970--------------------\n",
      "['closure', 'realized', 'simultaneously', 'lives', 'eective', 'substantial', 'metaphorical', 'lived', 'justication', 'procedures']\n",
      "--------------------1980--------------------\n",
      "['composition', 'essentially', 'abstraction', 'timelessness', 'turning', 'implicit', 'wall', 'sort', 'dynamic', 'singularity']\n",
      "--------------------1990--------------------\n",
      "['postwar', 'engagement', 'search', 'former', 'led', 'connection', 'events', 'diverse', 'impact', 'involved']\n",
      "--------------------2000--------------------\n",
      "['projective', 'transition', 'series', 'rise', 'european', 'domestic', 'principles', 'decoration', 'capital', 'nihilism']\n",
      "--------------------2010--------------------\n",
      "['range', 'establish', 'whose', 'english', 'held', 'flows', 'uses', 'offer', 'effects', 'sources']\n"
     ]
    }
   ],
   "source": [
    "word = 'drawing'\n",
    "year = 1960\n",
    "for mod in modelz:\n",
    "    print('--------------------'+str(year)+'--------------------')\n",
    "    print([x[0] for x in mod.wv.most_similar(word ,topn=10)])\n",
    "    year += 10"
   ]
  },
  {
   "cell_type": "code",
   "execution_count": 371,
   "metadata": {},
   "outputs": [
    {
     "name": "stdout",
     "output_type": "stream",
     "text": [
      "--------------------1960--------------------\n",
      "['utopianism', 'instead', 'mathematical', 'prices', 'proposed', 'behavior', 'existing', 'perrault', 'philosophical', 'began']\n",
      "--------------------1970--------------------\n",
      "['techniques', 'productive', 'study', 'realization', 'technological', 'explosion', 'pleasure', 'discourses', 'emphasis', 'commentary']\n",
      "--------------------1980--------------------\n",
      "['tectonic', 'mechanism', 'motivation', 'activity', 'presents', 'organizes', 'propose', 'characteristic', 'brings', 'concern']\n",
      "--------------------1990--------------------\n",
      "['culture', 'historians', 'literary', 'discipline', 'practice', 'cultural', 'number', 'archi', 'design', 'fine']\n",
      "--------------------2000--------------------\n",
      "['concepts', 'living', 'geometric', 'aspects', 'modes', 'manner', 'mental', 'consider', 'bodies', 'latter']\n",
      "--------------------2010--------------------\n",
      "['along', 'scale', 'practices', 'position', 'away', 'details', 'taken', 'significance', 'conceptual', 'weapons']\n"
     ]
    }
   ],
   "source": [
    "word = 'visual'\n",
    "year = 1960\n",
    "for mod in modelz:\n",
    "    print('--------------------'+str(year)+'--------------------')\n",
    "    print([x[0] for x in mod.wv.most_similar(word ,topn=10)])\n",
    "    year += 10"
   ]
  },
  {
   "cell_type": "code",
   "execution_count": 382,
   "metadata": {},
   "outputs": [
    {
     "name": "stdout",
     "output_type": "stream",
     "text": [
      "--------------------1960--------------------\n",
      "['use', 'experience', 'parole', 'environment', 'world', 'values', 'level', 'terms', 'individual', 'first']\n",
      "--------------------1970--------------------\n",
      "['understood', 'function', 'representation', 'closed', 'element', 'science', 'objective', 'instrument', 'whole', 'system']\n",
      "--------------------1980--------------------\n",
      "['ornament', 'structural', 'presence', 'individual', 'reading', 'addition', 'condition', 'grounded', 'spirit', 'continuity']\n",
      "--------------------1990--------------------\n",
      "['outside', 'inside', 'precisely', 'becomes', 'theoretical', 'absence', 'itself', 'important', 'becoming', 'machine']\n",
      "--------------------2000--------------------\n",
      "['external', 'allows', 'possibility', 'act', 'abstract', 'productive', 'subjective', 'outside', 'truth', 'sign']\n",
      "--------------------2010--------------------\n",
      "['sense', 'material', 'place', 'interiority', 'thus', 'traditional', 'means', 'memory', 'moment', 'life']\n"
     ]
    }
   ],
   "source": [
    "word = 'object'\n",
    "year = 1960\n",
    "for mod in modelz:\n",
    "    print('--------------------'+str(year)+'--------------------')\n",
    "    print([x[0] for x in mod.wv.most_similar(word ,topn=10)])\n",
    "    year += 10"
   ]
  },
  {
   "cell_type": "code",
   "execution_count": 386,
   "metadata": {},
   "outputs": [
    {
     "name": "stdout",
     "output_type": "stream",
     "text": [
      "--------------------1960--------------------\n",
      "['occupants', 'signified', 'age', 'development', 'element', 'great', 'area', 'visible', 'laws', 'knowledge']\n",
      "--------------------1970--------------------\n",
      "['practice', 'ideology', 'distinction', 'ideological', 'non', 'relationship', 'eisenmans', 'western', 'theoretical', 'based']\n",
      "--------------------1980--------------------\n",
      "['history', 'contemporary', 'philosophy', 'urban', 'everyday', 'life', 'artistic', 'science', 'postmodern', 'crisis']\n",
      "--------------------1990--------------------\n",
      "['studies', 'historical', 'culture', 'architectural', 'cultural', 'criticism', 'architecture', 'archi', 'science', 'architec']\n",
      "--------------------2000--------------------\n",
      "['history', 'practice', 'critical', 'architectural', 'design', 'discourse', 'contemporary', 'philosophy', 'language', 'criticism']\n",
      "--------------------2010--------------------\n",
      "['architecture', 'work', 'art', 'historians', 'discipline', 'architectural', 'cultural', 'century', 'past', 'terms']\n"
     ]
    }
   ],
   "source": [
    "word = 'theory'\n",
    "year = 1960\n",
    "for mod in modelz:\n",
    "    print('--------------------'+str(year)+'--------------------')\n",
    "    print([x[0] for x in mod.wv.most_similar(word ,topn=10)])\n",
    "    year += 10"
   ]
  },
  {
   "cell_type": "markdown",
   "metadata": {},
   "source": [
    "\n",
    "**ROBERT VENTURI, 1925-2018:**\n",
    "A controversial critic of the blithely functionalist and symbolically vacuous architecture of corporate modernism during the 1950s, Venturi was one of the first architects to question some of the premises of the Modern Movement. He published his \"gentle manifesto\", Complexity and Contradiction in Architecture in 1966; in its introduction, Vincent Scully called it \"probably the most important writing on the making of architecture since Le Corbusier's Vers Une Architecture of 1923.\" The work was derived from course lectures at the University of Pennsylvania, and Venturi received a grant from the Graham Foundation in 1965 to aid in its completion. The book demonstrated, through countless examples, an approach to understanding architectural composition and complexity, and the resulting richness and interest.\n",
    "\n",
    "**COLIN ROWE, 1920-1999:** Rowe's original approach was based on making comparisons between cultural events that conventional history kept widely separated and categorised, but which he unearthed from his vast personal erudition (in constant development) and placed together for comparison. His unorthodox and non-chronological view of history then made it possible for him to develop theoretical speculations such as his famous essay \"The Mathematics of the Ideal Villa\" (1947) in which he theorised that there were compositional \"rules\" in Palladio's villas that could be demonstrated to correspond to similar \"rules\" in Le Corbusier's villas at Poissy and Garches. \n",
    "\n",
    "**ROBERT A.M. STERN, 1925- :** In the 1970s, and early 1980s, Stern developed a reputation as a postmodern architect for integrating classical elements into his designs for contemporary buildings,[17] but in the mid-1980s, his work became more traditional, more in keeping with the then emerging New Classical architectural movement.[18] Stern, however, has rejected such characterizations, arguing that his projects draw on vernacular context and local traditions.[19] In recent years, the work of Stern's office has ranged from traditional to modernist, depending on the building type and project location, and is best characterized as eclectic and contextual.\n",
    "\n",
    "**KENNETH FRAMPTON, 1930- :** Frampton's essay was included in the book The Anti-Aesthetic. Essays on Postmodern Culture, edited by Hal Foster, though Frampton is critical of postmodernism. Frampton's own position attempts to defend a version of modernism that looks to either critical regionalism or a 'momentary' understanding of the autonomy of architectural practice in terms of its own concerns with form and tectonics which cannot be reduced to economics (whilst conversely retaining a Leftist viewpoint regarding the social responsibility of architecture). He summed up his critical stance towards postmodernist architecture and its advocates' belief in the primacy of architecture as a language.\n",
    "\n",
    "**CHARLES JENCKS, 1935-2018:** Jencks discussed his theories of postmodern architecture in The Language of Post-Modern Architecture (1977), which ran to seven editions. He examined the paradigm shift from modern to postmodern architecture, claiming that modern architecture concentrates on univalent forms such as right angles and square buildings often resembling office buildings. However, postmodern architecture focuses on forms derived from the mind, body, city context, and nature. In 2007, he published ‘Critical Modernism,’ the fifth edition of his What is Post-Modernism?"
   ]
  },
  {
   "cell_type": "markdown",
   "metadata": {},
   "source": [
    "**LE CORBUSIER 1887-1965:** was a Swiss-French architect, designer, painter, urban planner, writer, and one of the pioneers of what is now regarded as modern architecture. He was born in Switzerland and became a French citizen in 1930. His career spanned five decades, and he designed buildings in Europe, Japan, India, and North and South America.\n",
    "\n",
    "**MIES VAN DE ROHE:** born Maria Ludwig Michael Mies; March 27, 1886 – August 17, 1969) was a German-American architect.[1] He was commonly referred to as Mies, his surname. Along with Alvar Aalto, Le Corbusier, Walter Gropius and Frank Lloyd Wright, he is regarded as one of the pioneers of modernist architecture.\n",
    "\n",
    "Mies was the last director of the Bauhaus, a seminal school in modern architecture.[2] After Nazism's rise to power, with its strong opposition to modernism (leading to the closing of the Bauhaus itself), Mies emigrated to the United States. He accepted the position to head the architecture school at the Armour Institute of Technology (later the Illinois Institute of Technology), in Chicago.\n",
    "\n",
    "**WALTER GROPIUS, 1883-1969:** was a German architect and founder of the Bauhaus School,[1] who, along with Alvar Aalto, Ludwig Mies van der Rohe, Le Corbusier and Frank Lloyd Wright, is widely regarded as one of the pioneering masters of modernist architecture. He is a founder of Bauhaus in Weimar (1919).[2] Gropius was also a leading architect of the International Style.[3]\n",
    "\n",
    "**LESPRIT NOUVEAU:**  was a magazine founded by architect Le Corbusier, poet Paul Dermée, and painter Amédée Ozenfant in 1920.[1] The publication addressed a wide range of artistic disciplines including literature, visual arts, and architecture.[2] The articles written by Le Corbusier for L'Esprit Nouveau comprise a number of those appearing in his seminal 1923 book Toward an Architecture.[3] L'Esprit Nouveau remained in publication until 1925, releasing a total of 28 copies."
   ]
  },
  {
   "cell_type": "code",
   "execution_count": 389,
   "metadata": {},
   "outputs": [],
   "source": [
    "def dis_close_tsnescatterplot(model, word):\n",
    "    \n",
    "    arr = np.empty((0,100), dtype='f')\n",
    "    word_labels = [word]\n",
    "\n",
    "    # get close words\n",
    "    close_words = model.similar_by_word(word)\n",
    "    \n",
    "    # add the vector for each of the closest words to the array\n",
    "    arr = np.append(arr, np.array([model[word]]), axis=0)\n",
    "    for wrd_score in close_words:\n",
    "        wrd_vector = model[wrd_score[0]]\n",
    "        word_labels.append(wrd_score[0])\n",
    "        arr = np.append(arr, np.array([wrd_vector]), axis=0)\n",
    "        \n",
    "    # find tsne coords for 2 dimensions\n",
    "    tsne = TSNE(n_components=2, random_state=0)\n",
    "    np.set_printoptions(suppress=True)\n",
    "    Y = tsne.fit_transform(arr)\n",
    "\n",
    "    x_coords = Y[:, 0]\n",
    "    y_coords = Y[:, 1]\n",
    "    # display scatter plot\n",
    "    plt.scatter(x_coords, y_coords)\n",
    "\n",
    "    for label, x, y in zip(word_labels, x_coords, y_coords):\n",
    "        plt.annotate(label, xy=(x, y), xytext=(0, 0), textcoords='offset points')\n",
    "    plt.xlim(x_coords.min()+0.00005, x_coords.max()+0.00005)\n",
    "    plt.ylim(y_coords.min()+0.00005, y_coords.max()+0.00005)\n",
    "    plt.show()"
   ]
  },
  {
   "cell_type": "code",
   "execution_count": 21,
   "metadata": {},
   "outputs": [],
   "source": [
    "class Clustering():\n",
    "    def __init__(self,  w2v, model):\n",
    "        self.model = model\n",
    "        self.w2v = w2v\n",
    "        self.w2vecarrays = np.array([i[0] for i in w2v])\n",
    "        pass\n",
    "    \n",
    "    def fit_transform(self, number_of_clusters):\n",
    "        cluster = KMeans(n_clusters=number_of_clusters, random_state=0).fit(self.w2vecarrays)\n",
    "        #cluster = DBSCAN(eps=0.01, min_samples=3).fit(self.w2vecarrays)\n",
    "        #cluster = SpectralClustering(n_clusters=number_of_clusters, eigen_solver='arpack',affinity=\"nearest_neighbors\")\n",
    "        #cluster = AgglomerativeClustering(n_clusters=number_of_clusters, linkage='ward')\n",
    "        self.labels = cluster.labels_\n",
    "        counts = np.bincount(self.labels[self.labels>=0])\n",
    "               \n",
    "        self.concepts = {}\n",
    "        \n",
    "        for row_id in range(0, len(self.labels)):\n",
    "            word = self.w2v[row_id][1]\n",
    "            label = self.labels[row_id]\n",
    "            if label in self.concepts:\n",
    "                self.concepts[label].append(word)\n",
    "            else:\n",
    "                self.concepts[label] = [word]\n",
    "                \n",
    "        return self.concepts\n",
    "    \n",
    "    def visualize(self):\n",
    "        tsne = TSNE(n_components=2)\n",
    "        X_tsne = tsne.fit_transform(self.w2vecarrays)\n",
    "        \n",
    "        for concept in sorted(self.concepts):\n",
    "            try:\n",
    "                txt = \" \".join(self.concepts[concept])\n",
    "                wordcloud = WordCloud(background_color=\"white\",max_font_size=40, relative_scaling=.5).generate(txt)\n",
    "                plt.figure()\n",
    "                plt.imshow(wordcloud)       \n",
    "                plt.title(concept)\n",
    "                plt.axis(\"off\")\n",
    "                plt.show()\n",
    "            except ValueError:\n",
    "                print(self.concepts[concept])"
   ]
  },
  {
   "cell_type": "code",
   "execution_count": 390,
   "metadata": {},
   "outputs": [
    {
     "name": "stderr",
     "output_type": "stream",
     "text": [
      "/Users/jhg/opt/anaconda3/lib/python3.7/site-packages/ipykernel_launcher.py:7: DeprecationWarning: Call to deprecated `similar_by_word` (Method will be removed in 4.0.0, use self.wv.similar_by_word() instead).\n",
      "  import sys\n",
      "/Users/jhg/opt/anaconda3/lib/python3.7/site-packages/ipykernel_launcher.py:10: DeprecationWarning: Call to deprecated `__getitem__` (Method will be removed in 4.0.0, use self.wv.__getitem__() instead).\n",
      "  # Remove the CWD from sys.path while we load stuff.\n",
      "/Users/jhg/opt/anaconda3/lib/python3.7/site-packages/ipykernel_launcher.py:12: DeprecationWarning: Call to deprecated `__getitem__` (Method will be removed in 4.0.0, use self.wv.__getitem__() instead).\n",
      "  if sys.path[0] == '':\n"
     ]
    },
    {
     "data": {
      "image/png": "[encoded data removed]",
      "text/plain": [
       "<Figure size 432x288 with 1 Axes>"
      ]
     },
     "metadata": {
      "needs_background": "light"
     },
     "output_type": "display_data"
    }
   ],
   "source": [
    "dis_close_tsnescatterplot(big_model, 'visual')"
   ]
  },
  {
   "cell_type": "code",
   "execution_count": null,
   "metadata": {},
   "outputs": [],
   "source": [
    "def display_cluster(X,km=[],num_clusters=0):\n",
    "    color = 'brgcmyk'\n",
    "    alpha = 0.5\n",
    "    s = 20\n",
    "    if num_clusters == 0:\n",
    "        plt.scatter(X[:,0],X[:,1],c = color[0],alpha = alpha,s = s)\n",
    "    else:\n",
    "        for i in range(num_clusters):\n",
    "            plt.scatter(X[km.labels_==i,0],X[km.labels_==i,1],c = color[i],alpha = alpha,s=s)\n",
    "            plt.scatter(km.cluster_centers_[i][0],km.cluster_centers_[i][1],c = color[i], marker = 'x', s = 100)"
   ]
  },
  {
   "cell_type": "code",
   "execution_count": null,
   "metadata": {},
   "outputs": [],
   "source": [
    "num_clusters = 2\n",
    "km = KMeans(n_clusters=num_clusters,random_state=10,n_init=1) # n_init, number of times the K-mean algorithm will run\n",
    "km.fit(X)\n",
    "display_cluster(X,km,num_clusters)"
   ]
  }
 ],
 "metadata": {
  "kernelspec": {
   "display_name": "Python 3",
   "language": "python",
   "name": "python3"
  },
  "language_info": {
   "codemirror_mode": {
    "name": "ipython",
    "version": 3
   },
   "file_extension": ".py",
   "mimetype": "text/x-python",
   "name": "python",
   "nbconvert_exporter": "python",
   "pygments_lexer": "ipython3",
   "version": "3.7.6"
  }
 },
 "nbformat": 4,
 "nbformat_minor": 4
}
